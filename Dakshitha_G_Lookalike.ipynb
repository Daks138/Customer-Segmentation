{
 "cells": [
  {
   "cell_type": "code",
   "execution_count": 3,
   "id": "62d58dda",
   "metadata": {},
   "outputs": [],
   "source": [
    "import pandas as pd\n",
    "import os\n",
    "import numpy\n",
    "from sklearn.preprocessing import StandardScaler, OneHotEncoder\n",
    "from sklearn.metrics.pairwise import cosine_similarity"
   ]
  },
  {
   "cell_type": "code",
   "execution_count": 4,
   "id": "fc4c16c4",
   "metadata": {},
   "outputs": [],
   "source": [
    "cust=pd.read_csv('Customers.csv')\n",
    "prd=pd.read_csv('Products.csv')\n",
    "trns=pd.read_csv('Transactions.csv')"
   ]
  },
  {
   "cell_type": "markdown",
   "id": "7385f9ce",
   "metadata": {},
   "source": [
    "## Lookalike Model"
   ]
  },
  {
   "cell_type": "code",
   "execution_count": null,
   "id": "fb52ca23",
   "metadata": {},
   "outputs": [],
   "source": [
    "prd.rename(columns={'Price': 'Product Price'}, inplace=True)\n",
    "trns.rename(columns={'Price': 'Transaction Price'}, inplace=True)\n",
    "\n",
    "merged_data = trns.merge(cust, on='CustomerID').merge(prd, on='ProductID')\n",
    "\n",
    "customer_features = merged_data.groupby('CustomerID').agg(\n",
    "    total_spent=('TotalValue', 'sum'),\n",
    "    transaction_count=('TransactionID', 'nunique'),\n",
    "    avg_quantity=('Quantity', 'mean'),\n",
    "    unique_products=('ProductID', 'nunique')\n",
    ").reset_index()"
   ]
  },
  {
   "cell_type": "code",
   "execution_count": null,
   "id": "bb5ae3cb",
   "metadata": {},
   "outputs": [],
   "source": [
    "customer_profile = cust[['CustomerID', 'Region']].merge(customer_features, on='CustomerID')"
   ]
  },
  {
   "cell_type": "code",
   "execution_count": null,
   "id": "cb1fe1de",
   "metadata": {},
   "outputs": [],
   "source": [
    "#one hot encoding for categorical data\n",
    "encoder = OneHotEncoder()\n",
    "encoded_region = encoder.fit_transform(customer_profile[['Region']]).toarray()\n",
    "region_columns = encoder.get_feature_names_out(['Region'])\n",
    "encoded_df = pd.DataFrame(encoded_region, columns=region_columns)\n",
    "customer_profile = pd.concat([customer_profile, encoded_df], axis=1).drop('Region', axis=1)"
   ]
  },
  {
   "cell_type": "code",
   "execution_count": null,
   "id": "fa561b06",
   "metadata": {},
   "outputs": [],
   "source": [
    "#Standardize numeric to get to the same scal \n",
    "scaler = StandardScaler()\n",
    "scaled_features = scaler.fit_transform(customer_profile.drop(columns=['CustomerID']))\n"
   ]
  },
  {
   "cell_type": "code",
   "execution_count": null,
   "id": "eb5c7487",
   "metadata": {},
   "outputs": [],
   "source": [
    "#calculating the cosine similarity\n",
    "similarity_matrix = cosine_similarity(scaled_features)"
   ]
  },
  {
   "cell_type": "code",
   "execution_count": 6,
   "id": "549dbfc5",
   "metadata": {},
   "outputs": [
    {
     "name": "stdout",
     "output_type": "stream",
     "text": [
      "Lookalike.csv has been created with recommendations.\n"
     ]
    }
   ],
   "source": [
    "#lookalike model\n",
    "lookalikes = {}\n",
    "for idx, customer_id in enumerate(customer_profile['CustomerID'][:20]):\n",
    "    similar_indices = similarity_matrix[idx].argsort()[-4:-1][::-1]\n",
    "    similar_customers = customer_profile['CustomerID'].iloc[similar_indices].values\n",
    "    scores = similarity_matrix[idx][similar_indices]\n",
    "    lookalikes[customer_id] = list(zip(similar_customers, scores))\n",
    "\n",
    "with open('Looksalike.csv', 'w', newline='') as f:\n",
    "    writer = csv.writer(f)\n",
    "    writer.writerow(['cust_id', 'lookalikes'])\n",
    "    for key, value in lookalikes.items():\n",
    "        writer.writerow([key, value])\n",
    "\n",
    "print(\"Lookalike.csv has been created with recommendations.\")\n"
   ]
  }
 ],
 "metadata": {
  "kernelspec": {
   "display_name": "Python 3 (ipykernel)",
   "language": "python",
   "name": "python3"
  },
  "language_info": {
   "codemirror_mode": {
    "name": "ipython",
    "version": 3
   },
   "file_extension": ".py",
   "mimetype": "text/x-python",
   "name": "python",
   "nbconvert_exporter": "python",
   "pygments_lexer": "ipython3",
   "version": "3.11.5"
  }
 },
 "nbformat": 4,
 "nbformat_minor": 5
}
